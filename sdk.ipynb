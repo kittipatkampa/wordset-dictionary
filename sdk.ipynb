{
 "cells": [
  {
   "cell_type": "code",
   "execution_count": 1,
   "id": "f4839641-4148-4c6f-9d01-8e74e80c68aa",
   "metadata": {},
   "outputs": [],
   "source": [
    "from wordset_dictionary import WordSetDictionary"
   ]
  },
  {
   "cell_type": "code",
   "execution_count": 2,
   "id": "f548863f-a6ca-4711-bb33-352a5b659a8f",
   "metadata": {},
   "outputs": [],
   "source": [
    "import random\n",
    "import time\n",
    "import json"
   ]
  },
  {
   "cell_type": "code",
   "execution_count": 3,
   "id": "b9e02c6f-ed6e-4cc4-874c-3509156c4e5b",
   "metadata": {},
   "outputs": [],
   "source": [
    "# path to the data\n",
    "data_dir = './data'"
   ]
  },
  {
   "cell_type": "code",
   "execution_count": 4,
   "id": "f785207b-69b0-4036-a170-06102bdd6b71",
   "metadata": {},
   "outputs": [
    {
     "name": "stdout",
     "output_type": "stream",
     "text": [
      "Initiating dictionary takes: 599 milliseconds\n"
     ]
    }
   ],
   "source": [
    "t0 = time.time()\n",
    "\n",
    "# To import only letters a, b and c for demo\n",
    "# EngDict = WordSetDictionary(data_dir, ['a', 'b', 'c'])\n",
    "# To import all letters there are, use this instead\n",
    "EngDict = WordSetDictionary(data_dir)\n",
    "\n",
    "print(f'Initiating dictionary takes: {int(1000*(time.time() - t0))} milliseconds')"
   ]
  },
  {
   "cell_type": "code",
   "execution_count": 6,
   "id": "ad2b7e5a-35f3-49be-a8d7-e8fbe6f0eb2a",
   "metadata": {},
   "outputs": [
    {
     "name": "stdout",
     "output_type": "stream",
     "text": [
      "\n",
      "There are 108133 words in this dictionary.\n",
      "Here are some examples picked randomly: abeyance, Gambian, planchette, and how, callus, buttinsky, switch-ivy, grey goldenrod, gargle, coldly\n",
      "\n"
     ]
    }
   ],
   "source": [
    "# Show some examples\n",
    "all_words = EngDict.list_words()[\"words\"]\n",
    "selected_words = []\n",
    "for n in range(0, 10):\n",
    "    selected_words.append(\n",
    "        all_words[ random.randint(0, len(all_words)-1) ]\n",
    "        )    \n",
    "\n",
    "print(f'''\n",
    "There are {EngDict.count_words()[\"count\"]} words in this dictionary.\n",
    "Here are some examples picked randomly: {', '.join(selected_words)}\n",
    "''')\n"
   ]
  },
  {
   "cell_type": "code",
   "execution_count": 9,
   "id": "3dd929ec-99a4-40b5-a9a1-7608e51c4734",
   "metadata": {},
   "outputs": [
    {
     "name": "stdout",
     "output_type": "stream",
     "text": [
      "And you may be surprised by how many meanings \"cat\" has:\n",
      "{\n",
      "  \"wordset_id\": \"4a38be0f6b\",\n",
      "  \"meaning\": {\n",
      "    \"noun\": [\n",
      "      {\n",
      "        \"id\": \"717d3771e1\",\n",
      "        \"def\": \"feline mammal usually having thick soft fur and no ability to roar: domestic cats\",\n",
      "        \"example\": \"wildcats\",\n",
      "        \"speech_part\": \"noun\",\n",
      "        \"synonyms\": [\n",
      "          \"true cat\"\n",
      "        ]\n",
      "      },\n",
      "      {\n",
      "        \"id\": \"20eef03608\",\n",
      "        \"def\": \"any of several large cats typically able to roar and living in the wild\",\n",
      "        \"speech_part\": \"noun\",\n",
      "        \"synonyms\": [\n",
      "          \"big cat\"\n",
      "        ]\n",
      "      },\n",
      "      {\n",
      "        \"id\": \"4f34b9362b\",\n",
      "        \"def\": \"a large tracked vehicle that is propelled by two endless metal belts\",\n",
      "        \"speech_part\": \"noun\"\n",
      "      },\n",
      "      {\n",
      "        \"id\": \"8ae1e67f57\",\n",
      "        \"def\": \"a whip with nine knotted cords\",\n",
      "        \"example\": \"British sailors feared the cat\",\n",
      "        \"speech_part\": \"noun\",\n",
      "        \"synonyms\": [\n",
      "          \"cat-o'-nine-tails\"\n",
      "        ]\n",
      "      },\n",
      "      {\n",
      "        \"id\": \"291e14aba7\",\n",
      "        \"def\": \"the leaves of the shrub Catha edulis which are chewed like tobacco or used to make tea\",\n",
      "        \"speech_part\": \"noun\"\n",
      "      },\n",
      "      {\n",
      "        \"id\": \"43c93ad159\",\n",
      "        \"def\": \"a spiteful woman gossip\",\n",
      "        \"example\": \"You are such a cat!\",\n",
      "        \"speech_part\": \"noun\"\n",
      "      },\n",
      "      {\n",
      "        \"id\": \"604e020847\",\n",
      "        \"def\": \"an informal term for a youth or man\",\n",
      "        \"speech_part\": \"noun\",\n",
      "        \"synonyms\": [\n",
      "          \"guy\",\n",
      "          \"hombre\",\n",
      "          \"bozo\"\n",
      "        ]\n",
      "      }\n",
      "    ],\n",
      "    \"verb\": [\n",
      "      {\n",
      "        \"id\": \"f427fe3e4c\",\n",
      "        \"def\": \"to eject the contents of the stomach through the mouth\",\n",
      "        \"speech_part\": \"verb\",\n",
      "        \"synonyms\": [\n",
      "          \"cast\"\n",
      "        ]\n",
      "      },\n",
      "      {\n",
      "        \"id\": \"7f44f778e8\",\n",
      "        \"def\": \"to beat with a cat-o'-nine-tails\",\n",
      "        \"speech_part\": \"verb\"\n",
      "      }\n",
      "    ]\n",
      "  },\n",
      "  \"status\": 1\n",
      "}\n"
     ]
    }
   ],
   "source": [
    "# And you may be surprised by how many meanings \"cat\" has:\n",
    "payload = EngDict.get('cat')\n",
    "print(json.dumps(payload, indent=2))"
   ]
  },
  {
   "cell_type": "code",
   "execution_count": 13,
   "id": "0c4a9b63-2d28-4bfd-bd7e-be05a79b1450",
   "metadata": {},
   "outputs": [
    {
     "name": "stdout",
     "output_type": "stream",
     "text": [
      "{\n",
      "  \"wordset_id\": \"4a38be0f6b\",\n",
      "  \"meaning\": {\n",
      "    \"verb\": [\n",
      "      {\n",
      "        \"id\": \"f427fe3e4c\",\n",
      "        \"def\": \"to eject the contents of the stomach through the mouth\",\n",
      "        \"speech_part\": \"verb\",\n",
      "        \"synonyms\": [\n",
      "          \"cast\"\n",
      "        ]\n",
      "      },\n",
      "      {\n",
      "        \"id\": \"7f44f778e8\",\n",
      "        \"def\": \"to beat with a cat-o'-nine-tails\",\n",
      "        \"speech_part\": \"verb\"\n",
      "      }\n",
      "    ]\n",
      "  },\n",
      "  \"status\": 1\n",
      "}\n"
     ]
    }
   ],
   "source": [
    "# Now we want to see the meaning of cat that are verb or adjective\n",
    "payload = EngDict.get('cat', speech_parts=['verb', 'adjective'])\n",
    "print(json.dumps(payload, indent=2))"
   ]
  },
  {
   "cell_type": "code",
   "execution_count": 11,
   "id": "d9b91abf-8e0a-4bc4-b101-b4980c33d6bd",
   "metadata": {},
   "outputs": [
    {
     "name": "stdout",
     "output_type": "stream",
     "text": [
      "{\n",
      "  \"wordset_id\": \"4a38be0f6b\",\n",
      "  \"meaning\": {},\n",
      "  \"status\": 2,\n",
      "  \"err_msg\": \"The word exists but does not have the requested speach parts\",\n",
      "  \"hints\": \"Please try to remove parameter `speech_parts` from your request and rerun\"\n",
      "}\n"
     ]
    }
   ],
   "source": [
    "# Now we want to see the meaning of cat that are adverb only\n",
    "payload = EngDict.get('cat', speech_parts=['adverb'])\n",
    "print(json.dumps(payload, indent=2))"
   ]
  },
  {
   "cell_type": "code",
   "execution_count": 14,
   "id": "e342e923-bf3b-4399-acc2-a0b6e99b129e",
   "metadata": {},
   "outputs": [
    {
     "name": "stdout",
     "output_type": "stream",
     "text": [
      "{\n",
      "  \"status\": 0,\n",
      "  \"err_msg\": \"The word does not exist in the dictionary\",\n",
      "  \"hints\": \"1) Please check if you have included the letter \\\"z\\\" in your database yet. If not, use method `add_dicts_to_db`.\\n2) You can add a new word into `data/<letter>.json`\"\n",
      "}\n"
     ]
    }
   ],
   "source": [
    "# Well, not every word exists in dictionary tho...\n",
    "payload = EngDict.get('zcatty', speech_parts=['adverb'])\n",
    "print(json.dumps(payload, indent=2))"
   ]
  },
  {
   "cell_type": "code",
   "execution_count": null,
   "id": "2f2a75a2-7d83-4472-8eb1-3984aca2ce27",
   "metadata": {},
   "outputs": [],
   "source": []
  }
 ],
 "metadata": {
  "kernelspec": {
   "display_name": "Python 3 (ipykernel)",
   "language": "python",
   "name": "python3"
  },
  "language_info": {
   "codemirror_mode": {
    "name": "ipython",
    "version": 3
   },
   "file_extension": ".py",
   "mimetype": "text/x-python",
   "name": "python",
   "nbconvert_exporter": "python",
   "pygments_lexer": "ipython3",
   "version": "3.10.8"
  }
 },
 "nbformat": 4,
 "nbformat_minor": 5
}
